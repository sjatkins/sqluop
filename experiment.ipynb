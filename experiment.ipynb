{
 "cells": [
  {
   "cell_type": "code",
   "execution_count": 1,
   "id": "d7fceedf-0e1e-4ec6-863f-a5586fe904eb",
   "metadata": {},
   "outputs": [],
   "source": [
    "from sqluop import adaptor\n",
    "from sqluop.adaptor import Base, create_engine\n",
    "from uopmeta.schemas import meta\n",
    "metadata = Base.metadata\n",
    "engine = create_engine(\"sqlite:///foobar\")"
   ]
  },
  {
   "cell_type": "code",
   "execution_count": 2,
   "id": "c44d8d2c-18ce-49dc-8d31-98e9715e53db",
   "metadata": {},
   "outputs": [],
   "source": [
    "for name,cls in meta.kind_map.items():\n",
    "    adaptor.generate_table_from_pydantic(cls, Base)"
   ]
  },
  {
   "cell_type": "markdown",
   "id": "752c21ba-3f53-4380-87dd-f5ad7282fbdd",
   "metadata": {},
   "source": [
    "create_engine(\"sqlite://foobar\")"
   ]
  },
  {
   "cell_type": "code",
   "execution_count": 4,
   "id": "6a320d90-ec59-4fe0-81b4-31fa3a16f777",
   "metadata": {},
   "outputs": [],
   "source": [
    "engine = create_engine(\"sqlite:///foobar\")"
   ]
  },
  {
   "cell_type": "code",
   "execution_count": 6,
   "id": "da085ad4-9dab-4256-b76e-7ee029ba1f12",
   "metadata": {},
   "outputs": [],
   "source": [
    "Base.metadata.create_all(engine)"
   ]
  },
  {
   "cell_type": "code",
   "execution_count": 2,
   "id": "ffefd8a6-ba99-415c-8232-2cad7241124c",
   "metadata": {},
   "outputs": [],
   "source": [
    "Base.metadata.reflect(engine)"
   ]
  },
  {
   "cell_type": "code",
   "execution_count": 3,
   "id": "ca7d5275-040e-43e3-9577-c551ec41779e",
   "metadata": {},
   "outputs": [
    {
     "data": {
      "text/plain": [
       "FacadeDict({'grouped': Table('grouped', MetaData(), Column('id', VARCHAR(), table=<grouped>, primary_key=True, nullable=False), Column('assoc_id', VARCHAR(), table=<grouped>), Column('object_id', VARCHAR(), table=<grouped>), Column('kind', VARCHAR(), table=<grouped>), schema=None), 'metaattribute': Table('metaattribute', MetaData(), Column('id', VARCHAR(), table=<metaattribute>, primary_key=True, nullable=False), Column('description', VARCHAR(), table=<metaattribute>), Column('name', VARCHAR(), table=<metaattribute>), Column('permissions', JSON(), table=<metaattribute>), Column('kind', VARCHAR(), table=<metaattribute>), Column('type', VARCHAR(), table=<metaattribute>), Column('class_name', VARCHAR(), table=<metaattribute>), Column('required', BOOLEAN(), table=<metaattribute>), schema=None), 'metaclass': Table('metaclass', MetaData(), Column('id', VARCHAR(), table=<metaclass>, primary_key=True, nullable=False), Column('description', VARCHAR(), table=<metaclass>), Column('name', VARCHAR(), table=<metaclass>), Column('permissions', JSON(), table=<metaclass>), Column('kind', VARCHAR(), table=<metaclass>), Column('superclass', VARCHAR(), table=<metaclass>), Column('attrs', VARCHAR(), table=<metaclass>), Column('attributes', JSON(), table=<metaclass>), Column('short_form', VARCHAR(), table=<metaclass>), Column('instance_collection', VARCHAR(), table=<metaclass>), Column('is_abstract', BOOLEAN(), table=<metaclass>), Column('mandatory_attributes', VARCHAR(), table=<metaclass>), schema=None), 'metagroup': Table('metagroup', MetaData(), Column('id', VARCHAR(), table=<metagroup>, primary_key=True, nullable=False), Column('description', VARCHAR(), table=<metagroup>), Column('name', VARCHAR(), table=<metagroup>), Column('permissions', JSON(), table=<metagroup>), Column('kind', VARCHAR(), table=<metagroup>), Column('contained_in', VARCHAR(), table=<metagroup>), schema=None), 'metaquery': Table('metaquery', MetaData(), Column('id', VARCHAR(), table=<metaquery>, primary_key=True, nullable=False), Column('description', VARCHAR(), table=<metaquery>), Column('name', VARCHAR(), table=<metaquery>), Column('permissions', JSON(), table=<metaquery>), Column('kind', VARCHAR(), table=<metaquery>), Column('query', JSON(), table=<metaquery>), schema=None), 'metarole': Table('metarole', MetaData(), Column('id', VARCHAR(), table=<metarole>, primary_key=True, nullable=False), Column('description', VARCHAR(), table=<metarole>), Column('name', VARCHAR(), table=<metarole>), Column('permissions', JSON(), table=<metarole>), Column('kind', VARCHAR(), table=<metarole>), Column('reverse_name', VARCHAR(), table=<metarole>), schema=None), 'metatag': Table('metatag', MetaData(), Column('id', VARCHAR(), table=<metatag>, primary_key=True, nullable=False), Column('description', VARCHAR(), table=<metatag>), Column('name', VARCHAR(), table=<metatag>), Column('permissions', JSON(), table=<metatag>), Column('kind', VARCHAR(), table=<metatag>), schema=None), 'related': Table('related', MetaData(), Column('id', VARCHAR(), table=<related>, primary_key=True, nullable=False), Column('assoc_id', VARCHAR(), table=<related>), Column('object_id', VARCHAR(), table=<related>), Column('subject_id', VARCHAR(), table=<related>), Column('kind', VARCHAR(), table=<related>), schema=None), 'tagged': Table('tagged', MetaData(), Column('id', VARCHAR(), table=<tagged>, primary_key=True, nullable=False), Column('assoc_id', VARCHAR(), table=<tagged>), Column('object_id', VARCHAR(), table=<tagged>), Column('kind', VARCHAR(), table=<tagged>), schema=None)})"
      ]
     },
     "execution_count": 3,
     "metadata": {},
     "output_type": "execute_result"
    }
   ],
   "source": [
    "Base.metadata.tables"
   ]
  },
  {
   "cell_type": "code",
   "execution_count": 8,
   "id": "595efcae-2ad0-42b8-a186-204ef1721cae",
   "metadata": {},
   "outputs": [
    {
     "data": {
      "text/plain": [
       "[Column('id', VARCHAR(), table=<tagged>, primary_key=True, nullable=False),\n",
       " Column('assoc_id', VARCHAR(), table=<tagged>),\n",
       " Column('object_id', VARCHAR(), table=<tagged>),\n",
       " Column('kind', VARCHAR(), table=<tagged>)]"
      ]
     },
     "execution_count": 8,
     "metadata": {},
     "output_type": "execute_result"
    }
   ],
   "source": [
    "list(metadata.tables['tagged'].columns)\n"
   ]
  },
  {
   "cell_type": "code",
   "execution_count": null,
   "id": "9a3793e5-6fcd-4f19-ac87-665f6abafe16",
   "metadata": {},
   "outputs": [],
   "source": []
  }
 ],
 "metadata": {
  "kernelspec": {
   "display_name": "Python 3 (ipykernel)",
   "language": "python",
   "name": "python3"
  },
  "language_info": {
   "codemirror_mode": {
    "name": "ipython",
    "version": 3
   },
   "file_extension": ".py",
   "mimetype": "text/x-python",
   "name": "python",
   "nbconvert_exporter": "python",
   "pygments_lexer": "ipython3",
   "version": "3.12.2"
  }
 },
 "nbformat": 4,
 "nbformat_minor": 5
}
