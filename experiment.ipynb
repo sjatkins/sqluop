{
 "cells": [
  {
   "cell_type": "code",
   "execution_count": 1,
   "id": "d7fceedf-0e1e-4ec6-863f-a5586fe904eb",
   "metadata": {},
   "outputs": [],
   "source": [
    "from sqluop import adaptor\n",
    "from sqluop.adaptor import Base, create_engine, table_from_pydantic\n",
    "from uopmeta.schemas import meta\n",
    "metadata = Base.metadata\n",
    "engine = create_engine(\"sqlite:///foobar\")"
   ]
  },
  {
   "cell_type": "code",
   "execution_count": 2,
   "id": "c44d8d2c-18ce-49dc-8d31-98e9715e53db",
   "metadata": {},
   "outputs": [],
   "source": [
    "for name,cls in meta.kind_map.items():\n",
    "    adaptor.generate_table_from_pydantic(cls, Base)"
   ]
  },
  {
   "cell_type": "markdown",
   "id": "752c21ba-3f53-4380-87dd-f5ad7282fbdd",
   "metadata": {},
   "source": [
    "create_engine(\"sqlite://foobar\")"
   ]
  },
  {
   "cell_type": "code",
   "execution_count": 4,
   "id": "6a320d90-ec59-4fe0-81b4-31fa3a16f777",
   "metadata": {},
   "outputs": [],
   "source": [
    "engine = create_engine(\"sqlite:///foobar\")"
   ]
  },
  {
   "cell_type": "code",
   "execution_count": 6,
   "id": "da085ad4-9dab-4256-b76e-7ee029ba1f12",
   "metadata": {},
   "outputs": [],
   "source": [
    "Base.metadata.create_all(engine)"
   ]
  },
  {
   "cell_type": "code",
   "execution_count": 2,
   "id": "ffefd8a6-ba99-415c-8232-2cad7241124c",
   "metadata": {},
   "outputs": [],
   "source": [
    "Base.metadata.reflect(engine)"
   ]
  },
  {
   "cell_type": "code",
   "execution_count": 3,
   "id": "ca7d5275-040e-43e3-9577-c551ec41779e",
   "metadata": {},
   "outputs": [],
   "source": [
    "table = table_from_pydantic(meta.MetaClass, Base, 'uop_metaclass')"
   ]
  },
  {
   "cell_type": "code",
   "execution_count": 2,
   "id": "595efcae-2ad0-42b8-a186-204ef1721cae",
   "metadata": {},
   "outputs": [],
   "source": [
    "tagged = table_from_pydantic(meta.Tagged, Base, 'uop_tagged')"
   ]
  },
  {
   "cell_type": "code",
   "execution_count": null,
   "id": "9a3793e5-6fcd-4f19-ac87-665f6abafe16",
   "metadata": {},
   "outputs": [],
   "source": []
  }
 ],
 "metadata": {
  "kernelspec": {
   "display_name": "Python 3 (ipykernel)",
   "language": "python",
   "name": "python3"
  },
  "language_info": {
   "codemirror_mode": {
    "name": "ipython",
    "version": 3
   },
   "file_extension": ".py",
   "mimetype": "text/x-python",
   "name": "python",
   "nbconvert_exporter": "python",
   "pygments_lexer": "ipython3",
   "version": "3.12.2"
  }
 },
 "nbformat": 4,
 "nbformat_minor": 5
}
